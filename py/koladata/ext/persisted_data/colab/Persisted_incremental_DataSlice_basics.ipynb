{
  "cells": [
    {
      "cell_type": "markdown",
      "metadata": {
        "id": "t906gKpPrJJY"
      },
      "source": [
        "# Persisted incremental DataSlice basics"
      ]
    },
    {
      "cell_type": "code",
      "execution_count": null,
      "metadata": {
        "id": "DZfRSQBGq1If"
      },
      "outputs": [],
      "source": [
        "# @title Imports\n",
        "import os\n",
        "import pytz\n",
        "import tempfile\n",
        "\n",
        "from koladata import kd\n",
        "from koladata import kd_ext"
      ]
    },
    {
      "cell_type": "code",
      "execution_count": null,
      "metadata": {
        "cellView": "form",
        "id": "ncMnLJ95rn9l"
      },
      "outputs": [],
      "source": [
        "# @title Utilities, e.g. for printing diagnostics\n",
        "\n",
        "DataSliceManagerView = kd_ext.persisted_data.DataSliceManagerView\n",
        "PersistedIncrementalDataSliceManager = (\n",
        "    kd_ext.persisted_data.PersistedIncrementalDataSliceManager\n",
        ")\n",
        "\n",
        "\n",
        "def get_bag_name_to_size_on_disk_in_mb_dict(\n",
        "    manager: PersistedIncrementalDataSliceManager,\n",
        ") -\u003e dict[str, float]:\n",
        "  result = {}\n",
        "  data_bag_manager = manager._data_bag_manager\n",
        "  for bag_metadata in data_bag_manager._metadata.data_bag_metadata:\n",
        "    bag_name = bag_metadata.name\n",
        "    stat_result = os.stat(data_bag_manager._get_bag_filepath(bag_name))\n",
        "    result[bag_name] = stat_result.st_size / 1024 / 1024\n",
        "  return result\n",
        "\n",
        "\n",
        "def format_percent(numerator, denominator) -\u003e str:\n",
        "  return f'{numerator / denominator * 100:.2f}%'\n",
        "\n",
        "\n",
        "def print_diagnostics(\n",
        "    manager: PersistedIncrementalDataSliceManager, heading: str\n",
        "):\n",
        "  bag_manager = manager._data_bag_manager\n",
        "  available_bag_names = bag_manager.get_available_bag_names()\n",
        "  loaded_bag_names = bag_manager.get_loaded_bag_names()\n",
        "  approximate_available_triples = sum([\n",
        "      bag_manager._read_bag_from_file(bag_name).get_approx_size()\n",
        "      for bag_name in available_bag_names\n",
        "  ])\n",
        "  approximate_loaded_triples = sum([\n",
        "      bag_manager.get_minimal_bag({bag_name}).get_approx_size()\n",
        "      for bag_name in loaded_bag_names\n",
        "  ])\n",
        "  bag_name_to_size_on_disk_in_mb = get_bag_name_to_size_on_disk_in_mb_dict(\n",
        "      manager\n",
        "  )\n",
        "  loaded_bags_size_on_disk_mb = sum([\n",
        "      bag_name_to_size_on_disk_in_mb[bag_name] for bag_name in loaded_bag_names\n",
        "  ])\n",
        "  available_bags_size_on_disk_mb = sum([\n",
        "      bag_name_to_size_on_disk_in_mb[bag_name]\n",
        "      for bag_name in bag_manager.get_available_bag_names()\n",
        "  ])\n",
        "  print(heading)\n",
        "  print('=' * len(heading))\n",
        "  print(\n",
        "      f'Managed bags: {len(available_bag_names)}   triples:'\n",
        "      f' {approximate_available_triples}   size on disk:'\n",
        "      f' {available_bags_size_on_disk_mb:.2f} Mb'\n",
        "  )\n",
        "  print(\n",
        "      'Loaded bags: '\n",
        "      f' {len(loaded_bag_names)} ({format_percent(len(loaded_bag_names), len(available_bag_names))})'\n",
        "      '   triples:'\n",
        "      f' {approximate_loaded_triples} ({format_percent(approximate_loaded_triples, approximate_available_triples)})'\n",
        "      f'  size on disk: {loaded_bags_size_on_disk_mb:.2f} Mb'\n",
        "      f' ({format_percent(loaded_bags_size_on_disk_mb, available_bags_size_on_disk_mb)})'\n",
        "  )\n",
        "  print()"
      ]
    },
    {
      "cell_type": "markdown",
      "metadata": {
        "id": "eNL36oKJsBVW"
      },
      "source": [
        "## Creating a persisted incremental DataSlice\n",
        "\n",
        "Consider the following plain Koda DataSlice:"
      ]
    },
    {
      "cell_type": "code",
      "execution_count": null,
      "metadata": {
        "id": "JwntgnBPtU2z"
      },
      "outputs": [],
      "source": [
        "query_schema = kd.named_schema('query')\n",
        "new_query = query_schema.new\n",
        "doc_schema = kd.named_schema('doc')\n",
        "new_doc = doc_schema.new\n",
        "\n",
        "query_ds = kd.slice([\n",
        "    new_query(\n",
        "        id=1,\n",
        "        text='How high is the Eiffel tower',\n",
        "        doc=kd.list([\n",
        "            new_doc(id=10, title='Attractions of Paris', content='foo' * 10000)\n",
        "        ]),\n",
        "    ),\n",
        "    new_query(\n",
        "        id=2,\n",
        "        text='How high is the empire state building',\n",
        "        doc=kd.list([\n",
        "            new_doc(\n",
        "                id=11, title='Attractions of New York', content='bar' * 10000\n",
        "            ),\n",
        "            new_doc(\n",
        "                id=12,\n",
        "                title=\"The world's tallest buildings\",\n",
        "                content='baz' * 10000,\n",
        "            ),\n",
        "        ]),\n",
        "    ),\n",
        "])"
      ]
    },
    {
      "cell_type": "markdown",
      "metadata": {
        "id": "CDwUXNikuXfM"
      },
      "source": [
        "It is simple to turn it into a version that is persisted to disk and whose data can be loaded incrementally on demand.\n",
        "\n",
        "Persistence and incremental loading is useful for situations where the full data does not fit into RAM. All the data is persisted to disk, and only the parts that are needed get loaded into RAM.\n",
        "\n",
        "The examples in this notebook all have tiny data, but the techniques shown here also apply to real-world applications where the data is large."
      ]
    },
    {
      "cell_type": "code",
      "execution_count": null,
      "metadata": {
        "id": "mbppDg7ir_Y2"
      },
      "outputs": [],
      "source": [
        "manager = PersistedIncrementalDataSliceManager(tempfile.mkdtemp())\n",
        "\n",
        "root = DataSliceManagerView(manager)\n",
        "root.query = query_ds.implode(ndim=-1), 'Added initial \"query\" data'"
      ]
    },
    {
      "cell_type": "markdown",
      "metadata": {
        "id": "SWQdTf-Ew8u6"
      },
      "source": [
        "The assignment to `root.query` received the full query data `query_ds.implode(...)` in\n",
        "memory, alongside a commit message. The manager decomposed the query data into smaller DataBags, persisted the bags,\n",
        "and kept them in a cache. We clear the cache to make the memory footprint of\n",
        "the manager tiny."
      ]
    },
    {
      "cell_type": "code",
      "execution_count": null,
      "metadata": {
        "executionInfo": {
          "elapsed": 58,
          "status": "ok",
          "timestamp": 1758280678035,
          "user": {
            "displayName": "",
            "userId": ""
          },
          "user_tz": -120
        },
        "id": "GI5_YEEqw-mB",
        "outputId": "1956cd8a-a3e8-4932-8a1c-bdb915aca41b"
      },
      "outputs": [
        {
          "name": "stdout",
          "output_type": "stream",
          "text": [
            "After adding initial \"query\" data\n",
            "=================================\n",
            "Managed bags: 10   triples: 30   size on disk: 0.01 Mb\n",
            "Loaded bags:  10 (100.00%)   triples: 30 (100.00%)  size on disk: 0.01 Mb (100.00%)\n",
            "\n"
          ]
        }
      ],
      "source": [
        "# @test {\"output\": \"ignore\"}\n",
        "\n",
        "print_diagnostics(manager, 'After adding initial \"query\" data')"
      ]
    },
    {
      "cell_type": "code",
      "execution_count": null,
      "metadata": {
        "executionInfo": {
          "elapsed": 4,
          "status": "ok",
          "timestamp": 1758280681039,
          "user": {
            "displayName": "",
            "userId": ""
          },
          "user_tz": -120
        },
        "id": "F_znL8BdxFjO",
        "outputId": "093ff5f0-c348-4d93-a7dc-0d90be531ccd"
      },
      "outputs": [
        {
          "name": "stdout",
          "output_type": "stream",
          "text": [
            "After clearing the cache\n",
            "========================\n",
            "Managed bags: 10   triples: 30   size on disk: 0.01 Mb\n",
            "Loaded bags:  1 (10.00%)   triples: 0 (0.00%)  size on disk: 0.00 Mb (2.10%)\n",
            "\n"
          ]
        }
      ],
      "source": [
        "# @test {\"output\": \"ignore\"}\n",
        "\n",
        "manager.clear_cache()\n",
        "print_diagnostics(manager, 'After clearing the cache')"
      ]
    },
    {
      "cell_type": "markdown",
      "metadata": {
        "id": "81_lqdPL2QHx"
      },
      "source": [
        "## Getting data from a persisted incremental DataSlice"
      ]
    },
    {
      "cell_type": "markdown",
      "metadata": {
        "id": "jWg2ZqLOzwZh"
      },
      "source": [
        "At this point no data triples are loaded, but the manager always knows the schema of the data."
      ]
    },
    {
      "cell_type": "code",
      "execution_count": null,
      "metadata": {
        "executionInfo": {
          "elapsed": 52,
          "status": "ok",
          "timestamp": 1758280684616,
          "user": {
            "displayName": "",
            "userId": ""
          },
          "user_tz": -120
        },
        "id": "0lAx0KWb0Aay",
        "outputId": "12a3750d-03a0-4864-9744-15dde492c0c9"
      },
      "outputs": [
        {
          "data": {
            "text/plain": [
              "DataItem(ENTITY(\n",
              "  query=LIST[query(doc=LIST[doc(content=STRING, id=INT32, title=STRING)], id=INT32, text=STRING)],\n",
              "), schema: SCHEMA)"
            ]
          },
          "execution_count": 9,
          "metadata": {},
          "output_type": "execute_result"
        }
      ],
      "source": [
        "manager.get_schema()"
      ]
    },
    {
      "cell_type": "code",
      "execution_count": null,
      "metadata": {
        "executionInfo": {
          "elapsed": 55,
          "status": "ok",
          "timestamp": 1758280686094,
          "user": {
            "displayName": "",
            "userId": ""
          },
          "user_tz": -120
        },
        "id": "H1brWUJHvIxw",
        "outputId": "492a9ac7-1ae1-4cad-9c3a-19cf9d01d17c"
      },
      "outputs": [
        {
          "data": {
            "text/plain": [
              "DataItem(ENTITY(\n",
              "  query=LIST[query(doc=LIST[doc(content=STRING, id=INT32, title=STRING)], id=INT32, text=STRING)],\n",
              "), schema: SCHEMA)"
            ]
          },
          "execution_count": 10,
          "metadata": {},
          "output_type": "execute_result"
        }
      ],
      "source": [
        "root.get_schema()"
      ]
    },
    {
      "cell_type": "markdown",
      "metadata": {
        "id": "cF-YFUsK0Ccy"
      },
      "source": [
        "Asking for data will load it into memory."
      ]
    },
    {
      "cell_type": "code",
      "execution_count": null,
      "metadata": {
        "executionInfo": {
          "elapsed": 56,
          "status": "ok",
          "timestamp": 1758280689301,
          "user": {
            "displayName": "",
            "userId": ""
          },
          "user_tz": -120
        },
        "id": "A1fhwPdZvxn5",
        "outputId": "785d1077-7409-4d09-d56c-50984da1197f"
      },
      "outputs": [
        {
          "data": {
            "text/plain": [
              "DataSlice([[10], [11, 12]], schema: INT32)"
            ]
          },
          "execution_count": 11,
          "metadata": {},
          "output_type": "execute_result"
        }
      ],
      "source": [
        "root.query[:].doc[:].id.get_data_slice()"
      ]
    },
    {
      "cell_type": "code",
      "execution_count": null,
      "metadata": {
        "executionInfo": {
          "elapsed": 53,
          "status": "ok",
          "timestamp": 1758280690807,
          "user": {
            "displayName": "",
            "userId": ""
          },
          "user_tz": -120
        },
        "id": "-oLfRrVrv9kp",
        "outputId": "ffdcf8e2-a988-48e0-817f-8a36190fce65"
      },
      "outputs": [
        {
          "name": "stdout",
          "output_type": "stream",
          "text": [
            "After getting the DataSlice with doc ids\n",
            "========================================\n",
            "Managed bags: 10   triples: 30   size on disk: 0.01 Mb\n",
            "Loaded bags:  6 (60.00%)   triples: 16 (53.33%)  size on disk: 0.00 Mb (23.29%)\n",
            "\n"
          ]
        }
      ],
      "source": [
        "# @test {\"output\": \"ignore\"}\n",
        "\n",
        "print_diagnostics(manager, 'After getting the DataSlice with doc ids')"
      ]
    },
    {
      "cell_type": "markdown",
      "metadata": {
        "id": "QIVbESdE7y_0"
      },
      "source": [
        "By default, it loads only stubs of the data."
      ]
    },
    {
      "cell_type": "code",
      "execution_count": null,
      "metadata": {
        "executionInfo": {
          "elapsed": 56,
          "status": "ok",
          "timestamp": 1758280692711,
          "user": {
            "displayName": "",
            "userId": ""
          },
          "user_tz": -120
        },
        "id": "tQSqq3vC7x2F",
        "outputId": "36c17021-09db-471e-ac1c-b2eeb0eb615f"
      },
      "outputs": [
        {
          "data": {
            "text/plain": [
              "DataSlice([\n",
              "  [Entity():$002UhSVy7ootLyoijpwCQS],\n",
              "  [Entity():$002UhSVy7ootLyoijpwCQV, Entity():$002UhSVy7ootLyoijpwCQW],\n",
              "], schema: doc())"
            ]
          },
          "execution_count": 13,
          "metadata": {},
          "output_type": "execute_result"
        }
      ],
      "source": [
        "# @test {\"output\": \"ignore\"}\n",
        "\n",
        "root.query[:].doc[:].get_data_slice()"
      ]
    },
    {
      "cell_type": "markdown",
      "metadata": {
        "id": "Vb9jeEO78B5R"
      },
      "source": [
        "You can ask explicitly to populate the descendants."
      ]
    },
    {
      "cell_type": "code",
      "execution_count": null,
      "metadata": {
        "executionInfo": {
          "elapsed": 56,
          "status": "ok",
          "timestamp": 1758280697641,
          "user": {
            "displayName": "",
            "userId": ""
          },
          "user_tz": -120
        },
        "id": "ex-vsv9a0KFy",
        "outputId": "95966e09-4d4d-474f-bfca-6235a3a7e25c"
      },
      "outputs": [
        {
          "data": {
            "text/plain": [
              "DataSlice([\n",
              "  [\n",
              "    Entity(\n",
              "      content='foofoofoofoofoofoofoofoofoofoofoofoofoofoofoofoofoofoofoofoofoofoofoofoofoofoofoofoofoofoofoofoofoofoofoofoofoofoofoofoofoofoofo'...'oofoofoofoofoofoofoofoofoofoofoofoofoofoofoofoofoofoofoofoofoofoofoofoofoofoofoofoofoofoofoofoofoofoofoofoofoofoofoofoofoofoofoo',\n",
              "      id=10,\n",
              "      title='Attractions of Paris',\n",
              "    ),\n",
              "  ],\n",
              "  [\n",
              "    Entity(\n",
              "      content='barbarbarbarbarbarbarbarbarbarbarbarbarbarbarbarbarbarbarbarbarbarbarbarbarbarbarbarbarbarbarbarbarbarbarbarbarbarbarbarbarbarba'...'arbarbarbarbarbarbarbarbarbarbarbarbarbarbarbarbarbarbarbarbarbarbarbarbarbarbarbarbarbarbarbarbarbarbarbarbarbarbarbarbarbarbar',\n",
              "      id=11,\n",
              "      title='Attractions of New York',\n",
              "    ),\n",
              "    Entity(\n",
              "      content='bazbazbazbazbazbazbazbazbazbazbazbazbazbazbazbazbazbazbazbazbazbazbazbazbazbazbazbazbazbazbazbazbazbazbazbazbazbazbazbazbazbazba'...'azbazbazbazbazbazbazbazbazbazbazbazbazbazbazbazbazbazbazbazbazbazbazbazbazbazbazbazbazbazbazbazbazbazbazbazbazbazbazbazbazbazbaz',\n",
              "      id=12,\n",
              "      title='The world\\'s tallest buildings',\n",
              "    ),\n",
              "  ],\n",
              "], schema: doc(content=STRING, id=INT32, title=STRING))"
            ]
          },
          "execution_count": 14,
          "metadata": {},
          "output_type": "execute_result"
        }
      ],
      "source": [
        "root.query[:].doc[:].get_data_slice(with_descendants=True)"
      ]
    },
    {
      "cell_type": "code",
      "execution_count": null,
      "metadata": {
        "executionInfo": {
          "elapsed": 57,
          "status": "ok",
          "timestamp": 1758280786193,
          "user": {
            "displayName": "",
            "userId": ""
          },
          "user_tz": -120
        },
        "id": "uMwlb8_m0WmS",
        "outputId": "3dd0019b-5f9c-442d-9f45-524931cdf2d3"
      },
      "outputs": [
        {
          "name": "stdout",
          "output_type": "stream",
          "text": [
            "After getting all doc data\n",
            "==========================\n",
            "Managed bags: 10   triples: 30   size on disk: 0.01 Mb\n",
            "Loaded bags:  8 (80.00%)   triples: 24 (80.00%)  size on disk: 0.01 Mb (91.52%)\n",
            "\n"
          ]
        }
      ],
      "source": [
        "# @test {\"output\": \"ignore\"}\n",
        "\n",
        "print_diagnostics(manager, 'After getting all doc data')"
      ]
    },
    {
      "cell_type": "markdown",
      "metadata": {
        "id": "jhPBSCCB8Upv"
      },
      "source": [
        "You can also ask for the data of the ancestors up to the root. What you get is a minimal skeleton of the ancestors. For example, in the next cell you do not get the query text."
      ]
    },
    {
      "cell_type": "code",
      "execution_count": null,
      "metadata": {
        "executionInfo": {
          "elapsed": 56,
          "status": "ok",
          "timestamp": 1758280788321,
          "user": {
            "displayName": "",
            "userId": ""
          },
          "user_tz": -120
        },
        "id": "TIlkwosF1GTM",
        "outputId": "24ab8d2b-a986-460f-a9e0-17cba056f8ff"
      },
      "outputs": [
        {
          "data": {
            "text/plain": [
              "DataItem(Entity(\n",
              "  query=List[\n",
              "    Entity(\n",
              "      doc=List[\n",
              "        Entity(\n",
              "          content='foofoofoofoofoofoofoofoofoofoofoofoofoofoofoofoofoofoofoofoofoofoofoofoofoofoofoofoofoofoofoofoofoofoofoofoofoofoofoofoofoofoofo'...'oofoofoofoofoofoofoofoofoofoofoofoofoofoofoofoofoofoofoofoofoofoofoofoofoofoofoofoofoofoofoofoofoofoofoofoofoofoofoofoofoofoofoo',\n",
              "          id=10,\n",
              "          title='Attractions of Paris',\n",
              "        ),\n",
              "      ],\n",
              "    ),\n",
              "    Entity(\n",
              "      doc=List[\n",
              "        Entity(\n",
              "          content='barbarbarbarbarbarbarbarbarbarbarbarbarbarbarbarbarbarbarbarbarbarbarbarbarbarbarbarbarbarbarbarbarbarbarbarbarbarbarbarbarbarba'...'arbarbarbarbarbarbarbarbarbarbarbarbarbarbarbarbarbarbarbarbarbarbarbarbarbarbarbarbarbarbarbarbarbarbarbarbarbarbarbarbarbarbar',\n",
              "          id=11,\n",
              "          title='Attractions of New York',\n",
              "        ),\n",
              "        Entity(\n",
              "          content='bazbazbazbazbazbazbazbazbazbazbazbazbazbazbazbazbazbazbazbazbazbazbazbazbazbazbazbazbazbazbazbazbazbazbazbazbazbazbazbazbazbazba'...'azbazbazbazbazbazbazbazbazbazbazbazbazbazbazbazbazbazbazbazbazbazbazbazbazbazbazbazbazbazbazbazbazbazbazbazbazbazbazbazbazbazbaz',\n",
              "          id=12,\n",
              "          title='The world\\'s tallest buildings',\n",
              "        ),\n",
              "      ],\n",
              "    ),\n",
              "  ],\n",
              "), schema: ENTITY(query=LIST[query(doc=LIST[doc(content=STRING, id=INT32, title=STRING)])]))"
            ]
          },
          "execution_count": 16,
          "metadata": {},
          "output_type": "execute_result"
        }
      ],
      "source": [
        "root.query[:].doc[:].get_data_slice(with_ancestors=True, with_descendants=True)"
      ]
    },
    {
      "cell_type": "code",
      "execution_count": null,
      "metadata": {
        "executionInfo": {
          "elapsed": 5,
          "status": "ok",
          "timestamp": 1758280792886,
          "user": {
            "displayName": "",
            "userId": ""
          },
          "user_tz": -120
        },
        "id": "lfIA9X6C1KnD",
        "outputId": "c26fb92d-3cd0-4422-f7bb-0f21ee768fc0"
      },
      "outputs": [
        {
          "name": "stdout",
          "output_type": "stream",
          "text": [
            "After getting all doc data and the minimal skeleton of doc ancestors up to the root\n",
            "===================================================================================\n",
            "Managed bags: 10   triples: 30   size on disk: 0.01 Mb\n",
            "Loaded bags:  8 (80.00%)   triples: 24 (80.00%)  size on disk: 0.01 Mb (91.52%)\n",
            "\n"
          ]
        }
      ],
      "source": [
        "# @test {\"output\": \"ignore\"}\n",
        "\n",
        "print_diagnostics(manager, 'After getting all doc data and the minimal skeleton of doc ancestors up to the root')"
      ]
    },
    {
      "cell_type": "markdown",
      "metadata": {
        "id": "xox3zjTXxsUZ"
      },
      "source": [
        "## Updating a persisted incremental DataSlice\n",
        "\n",
        "It is simple to add or override data."
      ]
    },
    {
      "cell_type": "code",
      "execution_count": null,
      "metadata": {
        "id": "f60ym-f9xwf7"
      },
      "outputs": [],
      "source": [
        "query = root.query[:]\n",
        "\n",
        "query.locale = (\n",
        "    kd.slice(['en-GB', 'en-US']),\n",
        "    'Added locale information to queries',\n",
        ")\n",
        "\n",
        "query.text = (\n",
        "    kd.slice(['How high is the Eiffel tower in Paris', None])\n",
        "    | query.text.get_data_slice(),\n",
        "    'Updated the text of the first query about the Eiffel tower',\n",
        ")"
      ]
    },
    {
      "cell_type": "code",
      "execution_count": null,
      "metadata": {
        "executionInfo": {
          "elapsed": 3,
          "status": "ok",
          "timestamp": 1758280798117,
          "user": {
            "displayName": "",
            "userId": ""
          },
          "user_tz": -120
        },
        "id": "FTL9DkOw6pGr",
        "outputId": "74c10c23-1615-4741-a012-74a3df8b72b3"
      },
      "outputs": [
        {
          "data": {
            "text/plain": [
              "DataSlice(['en-GB', 'en-US'], schema: STRING)"
            ]
          },
          "execution_count": 19,
          "metadata": {},
          "output_type": "execute_result"
        }
      ],
      "source": [
        "query.locale.get_data_slice()"
      ]
    },
    {
      "cell_type": "code",
      "execution_count": null,
      "metadata": {
        "executionInfo": {
          "elapsed": 53,
          "status": "ok",
          "timestamp": 1758280799556,
          "user": {
            "displayName": "",
            "userId": ""
          },
          "user_tz": -120
        },
        "id": "yBG-upKk6s02",
        "outputId": "6dc63d21-0730-46af-b45b-fcd61c90d1d5"
      },
      "outputs": [
        {
          "data": {
            "text/plain": [
              "DataSlice(['How high is the Eiffel tower in Paris', 'How high is the empire state building'], schema: STRING)"
            ]
          },
          "execution_count": 20,
          "metadata": {},
          "output_type": "execute_result"
        }
      ],
      "source": [
        "query.text.get_data_slice()"
      ]
    },
    {
      "cell_type": "markdown",
      "metadata": {
        "id": "VJxPUm_9zCJw"
      },
      "source": [
        "## Looking at the revision history"
      ]
    },
    {
      "cell_type": "code",
      "execution_count": null,
      "metadata": {
        "executionInfo": {
          "elapsed": 56,
          "status": "ok",
          "timestamp": 1758280801882,
          "user": {
            "displayName": "",
            "userId": ""
          },
          "user_tz": -120
        },
        "id": "eEG5uDldzKS_",
        "outputId": "b891d428-4173-4634-9d4e-4fd294e26203"
      },
      "outputs": [
        {
          "data": {
            "text/plain": [
              "[CreationMetadata(description='Initial state with an empty root DataSlice', timestamp='2025-09-19 13:15:19 CEST'),\n",
              " AttributeUpdateMetadata(description='Added initial \"query\" data', timestamp='2025-09-19 13:15:19 CEST', at_path='', attr_name='query'),\n",
              " AttributeUpdateMetadata(description='Added locale information to queries', timestamp='2025-09-19 13:19:56 CEST', at_path='.query[:]', attr_name='locale'),\n",
              " AttributeUpdateMetadata(description='Updated the text of the first query about the Eiffel tower', timestamp='2025-09-19 13:19:56 CEST', at_path='.query[:]', attr_name='text')]"
            ]
          },
          "execution_count": 21,
          "metadata": {},
          "output_type": "execute_result"
        }
      ],
      "source": [
        "# @test {\"output\": \"ignore\"}\n",
        "\n",
        "manager.get_action_history(tz=pytz.timezone('Europe/Zurich'))"
      ]
    },
    {
      "cell_type": "markdown",
      "metadata": {
        "id": "TZmMJPY11pH7"
      },
      "source": [
        "## Branching\n",
        "\n",
        "Any manager can be branched. Branches are useful for rolling back updates, for what-if experiments, and for filtered versions of the data."
      ]
    },
    {
      "cell_type": "markdown",
      "metadata": {
        "id": "Y5OHFRWo7upE"
      },
      "source": [
        "### Branching to roll back updates"
      ]
    },
    {
      "cell_type": "code",
      "execution_count": null,
      "metadata": {
        "executionInfo": {
          "elapsed": 4,
          "status": "ok",
          "timestamp": 1758280838044,
          "user": {
            "displayName": "",
            "userId": ""
          },
          "user_tz": -120
        },
        "id": "71PzONEv1oZL",
        "outputId": "4b9b07dd-b7b8-4f03-bbcd-8995a11e7dab"
      },
      "outputs": [
        {
          "data": {
            "text/plain": [
              "DataSlice(['How high is the Eiffel tower in Paris', 'How high is the empire state building'], schema: STRING)"
            ]
          },
          "execution_count": 22,
          "metadata": {},
          "output_type": "execute_result"
        }
      ],
      "source": [
        "query.text.get_data_slice()"
      ]
    },
    {
      "cell_type": "code",
      "execution_count": null,
      "metadata": {
        "id": "jmNntOfY15oI"
      },
      "outputs": [],
      "source": [
        "before_updating_query_text = manager.branch(\n",
        "    tempfile.mkdtemp(),\n",
        "    # Note that we pass action_history_index=2. The action with index 2 in\n",
        "    # manager.get_action_history(...) from above has a description that says:\n",
        "    # \"Added locale information to queries\". We will create a branch on top of\n",
        "    # that, i.e. the branch will contain the locale information, but it will not\n",
        "    # include the effect of the action with index 3 (whose description is\n",
        "    # \"Updated the text of the first query about the Eiffel tower\").\n",
        "    action_history_index=2,\n",
        "    description='Branch to roll back state',\n",
        ")"
      ]
    },
    {
      "cell_type": "code",
      "execution_count": null,
      "metadata": {
        "executionInfo": {
          "elapsed": 56,
          "status": "ok",
          "timestamp": 1758280843640,
          "user": {
            "displayName": "",
            "userId": ""
          },
          "user_tz": -120
        },
        "id": "LepyNdKj2bfG",
        "outputId": "4b540324-5c4c-47a5-f9c6-627cdff65353"
      },
      "outputs": [
        {
          "data": {
            "text/plain": [
              "DataSlice(['How high is the Eiffel tower', 'How high is the empire state building'], schema: STRING)"
            ]
          },
          "execution_count": 24,
          "metadata": {},
          "output_type": "execute_result"
        }
      ],
      "source": [
        "root_before_updating_query_text = DataSliceManagerView(before_updating_query_text)\n",
        "\n",
        "root_before_updating_query_text.query[:].text.get_data_slice()"
      ]
    },
    {
      "cell_type": "markdown",
      "metadata": {
        "id": "Oh3AspLQ3xoh"
      },
      "source": [
        "Updates to the branch do not affect the original manager, and vice versa. The two managers evolve independently."
      ]
    },
    {
      "cell_type": "code",
      "execution_count": null,
      "metadata": {
        "id": "4PhG3CIT3rCH"
      },
      "outputs": [],
      "source": [
        "root_before_updating_query_text.query[:].text = (\n",
        "    kd.slice(['How heavy is the Eiffel Tower', None])\n",
        "    | root_before_updating_query_text.query[:].text.get_data_slice(),\n",
        "    'Updated the text of the first query to be about weight',\n",
        ")"
      ]
    },
    {
      "cell_type": "code",
      "execution_count": null,
      "metadata": {
        "executionInfo": {
          "elapsed": 55,
          "status": "ok",
          "timestamp": 1758280850051,
          "user": {
            "displayName": "",
            "userId": ""
          },
          "user_tz": -120
        },
        "id": "nyQTvGZ_4YfL",
        "outputId": "ff2eb62c-a454-4c1f-9202-bb8e1d764d58"
      },
      "outputs": [
        {
          "data": {
            "text/plain": [
              "DataSlice(['How heavy is the Eiffel Tower', 'How high is the empire state building'], schema: STRING)"
            ]
          },
          "execution_count": 26,
          "metadata": {},
          "output_type": "execute_result"
        }
      ],
      "source": [
        "root_before_updating_query_text.query[:].text.get_data_slice()"
      ]
    },
    {
      "cell_type": "code",
      "execution_count": null,
      "metadata": {
        "executionInfo": {
          "elapsed": 52,
          "status": "ok",
          "timestamp": 1758280851990,
          "user": {
            "displayName": "",
            "userId": ""
          },
          "user_tz": -120
        },
        "id": "jKqCStc_4dT5",
        "outputId": "3a827e3a-fc41-4f12-9b92-2751ea9dd63b"
      },
      "outputs": [
        {
          "data": {
            "text/plain": [
              "DataSlice(['How high is the Eiffel tower in Paris', 'How high is the empire state building'], schema: STRING)"
            ]
          },
          "execution_count": 27,
          "metadata": {},
          "output_type": "execute_result"
        }
      ],
      "source": [
        "root.query[:].text.get_data_slice()"
      ]
    },
    {
      "cell_type": "markdown",
      "metadata": {
        "id": "lbQ5LJRw3NbX"
      },
      "source": [
        "### Branching to filter data\n",
        "\n",
        "Creating a branch for filtering data is useful because then the filtering updates do not update the original data/manager."
      ]
    },
    {
      "cell_type": "code",
      "execution_count": null,
      "metadata": {
        "id": "t9u0AI0t3WoQ"
      },
      "outputs": [],
      "source": [
        "branch_manager = manager.branch(\n",
        "    tempfile.mkdtemp(), description='Branch to filter data'\n",
        ")\n",
        "\n",
        "branch_root = DataSliceManagerView(branch_manager)\n",
        "branch_query = branch_root.query[:]\n",
        "branch_doc = branch_query.doc[:]\n",
        "\n",
        "doc_mask = kd.strings.contains(branch_doc.title.get_data_slice(), 'Paris')\n",
        "filtered_docs = branch_doc.get_data_slice().select(doc_mask)\n",
        "query_mask = kd.agg_any(kd.has(filtered_docs))\n",
        "filtered_queries = branch_query.get_data_slice().select(query_mask)\n",
        "\n",
        "branch_query.doc = (\n",
        "    filtered_docs.implode(),\n",
        "    'Filtered the docs to keep only ones with \"Paris\" in the title',\n",
        ")\n",
        "branch_root.query = (\n",
        "    filtered_queries.implode(),\n",
        "    (\n",
        "        'Filtered the queries to keep only those with at least one doc with'\n",
        "        ' \"Paris\" in the title'\n",
        "    ),\n",
        ")"
      ]
    },
    {
      "cell_type": "markdown",
      "metadata": {
        "id": "_5sBvpnI67Eo"
      },
      "source": [
        "The filtering code above loaded only the data that was needed to perform the filtering."
      ]
    },
    {
      "cell_type": "code",
      "execution_count": null,
      "metadata": {
        "executionInfo": {
          "elapsed": 57,
          "status": "ok",
          "timestamp": 1758280859409,
          "user": {
            "displayName": "",
            "userId": ""
          },
          "user_tz": -120
        },
        "id": "jfp_glgf6xKB",
        "outputId": "8ba48541-21ea-4cbe-d837-8aa5e5b15623"
      },
      "outputs": [
        {
          "name": "stdout",
          "output_type": "stream",
          "text": [
            "After filtering\n",
            "===============\n",
            "Managed bags: 16   triples: 45   size on disk: 0.01 Mb\n",
            "Loaded bags:  10 (62.50%)   triples: 25 (55.56%)  size on disk: 0.00 Mb (32.81%)\n",
            "\n"
          ]
        }
      ],
      "source": [
        "# @test {\"output\": \"ignore\"}\n",
        "\n",
        "print_diagnostics(branch_manager, 'After filtering')"
      ]
    },
    {
      "cell_type": "code",
      "execution_count": null,
      "metadata": {
        "executionInfo": {
          "elapsed": 55,
          "status": "ok",
          "timestamp": 1758280862270,
          "user": {
            "displayName": "",
            "userId": ""
          },
          "user_tz": -120
        },
        "id": "Nrmy64E57SW6",
        "outputId": "74ffdada-ee53-466b-ff30-acb49cc2072a"
      },
      "outputs": [
        {
          "data": {
            "text/plain": [
              "DataItem(Entity(\n",
              "  query=List[\n",
              "    Entity(\n",
              "      doc=List[\n",
              "        Entity(\n",
              "          content='foofoofoofoofoofoofoofoofoofoofoofoofoofoofoofoofoofoofoofoofoofoofoofoofoofoofoofoofoofoofoofoofoofoofoofoofoofoofoofoofoofoofo'...'oofoofoofoofoofoofoofoofoofoofoofoofoofoofoofoofoofoofoofoofoofoofoofoofoofoofoofoofoofoofoofoofoofoofoofoofoofoofoofoofoofoofoo',\n",
              "          id=10,\n",
              "          title='Attractions of Paris',\n",
              "        ),\n",
              "      ],\n",
              "      id=1,\n",
              "      locale='en-GB',\n",
              "      text='How high is the Eiffel tower in Paris',\n",
              "    ),\n",
              "  ],\n",
              "), schema: ENTITY(\n",
              "  query=LIST[query(\n",
              "    doc=LIST[doc(content=STRING, id=INT32, title=STRING)],\n",
              "    id=INT32,\n",
              "    locale=STRING,\n",
              "    text=STRING,\n",
              "  )],\n",
              "))"
            ]
          },
          "execution_count": 30,
          "metadata": {},
          "output_type": "execute_result"
        }
      ],
      "source": [
        "branch_root.get_data_slice(with_descendants=True)"
      ]
    },
    {
      "cell_type": "code",
      "execution_count": null,
      "metadata": {
        "executionInfo": {
          "elapsed": 9,
          "status": "ok",
          "timestamp": 1758281746044,
          "user": {
            "displayName": "",
            "userId": ""
          },
          "user_tz": -120
        },
        "id": "Lh2PByXE7Z96",
        "outputId": "8861d324-09cd-4562-8de5-3ef71d0492bd"
      },
      "outputs": [
        {
          "name": "stdout",
          "output_type": "stream",
          "text": [
            "0. BranchMetadata: Branch to filter data\n",
            "1. AttributeUpdateMetadata: Filtered the docs to keep only ones with \"Paris\" in the title\n",
            "2. AttributeUpdateMetadata: Filtered the queries to keep only those with at least one doc with \"Paris\" in the title\n"
          ]
        }
      ],
      "source": [
        "for index, action in enumerate(\n",
        "    branch_manager.get_action_history(tz=pytz.timezone('Europe/Zurich'))\n",
        "):\n",
        "  print(f'{index}. {type(action).__name__}: {action.description}')"
      ]
    },
    {
      "cell_type": "markdown",
      "metadata": {
        "id": "MW8MIuTZ84kh"
      },
      "source": [
        "## Views are aware of the full schema\n",
        "\n",
        "Each view knows about its parent (unless it is the root), its children and the root."
      ]
    },
    {
      "cell_type": "code",
      "execution_count": null,
      "metadata": {
        "id": "8YtZBQYG-7qA"
      },
      "outputs": [],
      "source": [
        "assert query.get_grandparent() == root"
      ]
    },
    {
      "cell_type": "code",
      "execution_count": null,
      "metadata": {
        "executionInfo": {
          "elapsed": 3,
          "status": "ok",
          "timestamp": 1758280907466,
          "user": {
            "displayName": "",
            "userId": ""
          },
          "user_tz": -120
        },
        "id": "kijCi_Br_DAM",
        "outputId": "86e98e98-a438-49bb-cfbb-452b4661eff1"
      },
      "outputs": [
        {
          "name": "stdout",
          "output_type": "stream",
          "text": [
            ".query[:].doc\n",
            ".query[:].id\n",
            ".query[:].locale\n",
            ".query[:].text\n"
          ]
        }
      ],
      "source": [
        "for child in query.get_children():\n",
        "  print(child.get_path_from_root())\n",
        "  assert child.get_parent() == query"
      ]
    },
    {
      "cell_type": "code",
      "execution_count": null,
      "metadata": {
        "id": "iECfky2LBLnQ"
      },
      "outputs": [],
      "source": [
        "doc = query.doc[:]\n",
        "\n",
        "assert doc.title.get_parent() == doc"
      ]
    },
    {
      "cell_type": "markdown",
      "metadata": {
        "id": "3R9FNNau9wyo"
      },
      "source": [
        "Operations on views are checked immediately against the schema. Errors are flagged immediately."
      ]
    },
    {
      "cell_type": "code",
      "execution_count": null,
      "metadata": {
        "executionInfo": {
          "elapsed": 61,
          "status": "ok",
          "timestamp": 1758281797233,
          "user": {
            "displayName": "",
            "userId": ""
          },
          "user_tz": -120
        },
        "id": "Ex7MngWl_zau",
        "outputId": "0aa14bef-2b70-4cd4-e2ca-cb624959282a"
      },
      "outputs": [
        {
          "name": "stdout",
          "output_type": "stream",
          "text": [
            "invalid data slice path: '[:]'\n"
          ]
        }
      ],
      "source": [
        "try:\n",
        "  root[:]\n",
        "except ValueError as e:\n",
        "  print(e)"
      ]
    },
    {
      "cell_type": "code",
      "execution_count": null,
      "metadata": {
        "executionInfo": {
          "elapsed": 56,
          "status": "ok",
          "timestamp": 1758281811928,
          "user": {
            "displayName": "",
            "userId": ""
          },
          "user_tz": -120
        },
        "id": "tOL4wCBp_R04",
        "outputId": "2c7a6bee-c023-4bd2-8621-0e44c5ed828b"
      },
      "outputs": [
        {
          "name": "stdout",
          "output_type": "stream",
          "text": [
            "invalid data slice path: '.query[:].foo'\n"
          ]
        }
      ],
      "source": [
        "try:\n",
        "  query.foo\n",
        "except ValueError as e:\n",
        "  print(e)"
      ]
    },
    {
      "cell_type": "markdown",
      "metadata": {
        "id": "NyxR6MCj3elG"
      },
      "source": [
        "Views give you the ability to talk about an entire feature/column. Views do not support operations that involve anything less than that. Instead, such operations have to be performed on the DataSlices, i.e. after calling `view.get_data_slice()`."
      ]
    },
    {
      "cell_type": "code",
      "execution_count": null,
      "metadata": {
        "executionInfo": {
          "elapsed": 286,
          "status": "ok",
          "timestamp": 1758281828872,
          "user": {
            "displayName": "",
            "userId": ""
          },
          "user_tz": -120
        },
        "id": "13fVDR0K4Bpn",
        "outputId": "16e32aed-2ca2-4567-cda6-a16b019a89d1"
      },
      "outputs": [
        {
          "name": "stdout",
          "output_type": "stream",
          "text": [
            "only the [:] syntax is supported; got a request for [0]\n"
          ]
        }
      ],
      "source": [
        "try:\n",
        "  root.query[0]\n",
        "except ValueError as e:\n",
        "  print(e)"
      ]
    },
    {
      "cell_type": "code",
      "execution_count": null,
      "metadata": {
        "executionInfo": {
          "elapsed": 56,
          "status": "ok",
          "timestamp": 1758280921780,
          "user": {
            "displayName": "",
            "userId": ""
          },
          "user_tz": -120
        },
        "id": "pXuLkNJl4QrG",
        "outputId": "f58511ac-252d-45ac-d5df-8d016a257a6a"
      },
      "outputs": [
        {
          "data": {
            "text/plain": [
              "DataItem(Entity(\n",
              "  doc=List[\n",
              "    Entity(\n",
              "      content='foofoofoofoofoofoofoofoofoofoofoofoofoofoofoofoofoofoofoofoofoofoofoofoofoofoofoofoofoofoofoofoofoofoofoofoofoofoofoofoofoofoofo'...'oofoofoofoofoofoofoofoofoofoofoofoofoofoofoofoofoofoofoofoofoofoofoofoofoofoofoofoofoofoofoofoofoofoofoofoofoofoofoofoofoofoofoo',\n",
              "      id=10,\n",
              "      title='Attractions of Paris',\n",
              "    ),\n",
              "  ],\n",
              "  id=1,\n",
              "  locale='en-GB',\n",
              "  text='How high is the Eiffel tower in Paris',\n",
              "), schema: query(\n",
              "  doc=LIST[doc(content=STRING, id=INT32, title=STRING)],\n",
              "  id=INT32,\n",
              "  locale=STRING,\n",
              "  text=STRING,\n",
              "))"
            ]
          },
          "execution_count": 38,
          "metadata": {},
          "output_type": "execute_result"
        }
      ],
      "source": [
        "root.query.get_data_slice(with_descendants=True)[0]"
      ]
    },
    {
      "cell_type": "markdown",
      "metadata": {
        "id": "bleBvPHd-UlH"
      },
      "source": [
        "When you type `view.\u003ctab\u003e` in a notebook, auto-complete will suggest a schema-aware list of methods.\n",
        "\n",
        "Colab has some limitations: after long chains of operations on a view, it may not give the proper completions anymore. Saving the long chain in a variable seems to solve that. Auto-complete will suggest good completions for the variable and short chains of operations on it."
      ]
    },
    {
      "cell_type": "markdown",
      "metadata": {
        "id": "PQ7SJ-9V75z0"
      },
      "source": [
        "## Loading data sequentially and in parallel"
      ]
    },
    {
      "cell_type": "code",
      "execution_count": null,
      "metadata": {
        "id": "VTj07IFkCL3i"
      },
      "outputs": [],
      "source": [
        "def get_data_sequential(\n",
        "    manager: PersistedIncrementalDataSliceManager,\n",
        ") -\u003e dict[str, kd.types.DataSlice]:\n",
        "  root = DataSliceManagerView(manager)\n",
        "  query = root.query[:]\n",
        "  doc = query.doc[:]\n",
        "\n",
        "  return dict(\n",
        "      # The calls to get_data_slice() here are run in sequence. However, the\n",
        "      # index structure of queries and docs is cached across the calls.\n",
        "      query_text=query.text.get_data_slice(),\n",
        "      doc_title=doc.title.get_data_slice(),\n",
        "      doc_id=doc.id.get_data_slice(),\n",
        "  )\n",
        "\n",
        "\n",
        "def convert_to_pure_python(data: dict[str, kd.types.DataSlice]):\n",
        "  return kd.new(**data).flatten().to_py(obj_as_dict=True)"
      ]
    },
    {
      "cell_type": "code",
      "execution_count": null,
      "metadata": {
        "id": "kXqBbQHwCJeK"
      },
      "outputs": [],
      "source": [
        "manager.clear_cache()"
      ]
    },
    {
      "cell_type": "code",
      "execution_count": null,
      "metadata": {
        "executionInfo": {
          "elapsed": 60,
          "status": "ok",
          "timestamp": 1758280930456,
          "user": {
            "displayName": "",
            "userId": ""
          },
          "user_tz": -120
        },
        "id": "tEnX4UFpC__F",
        "outputId": "0b08f900-51d8-4bb5-d6f3-229128185ff5"
      },
      "outputs": [
        {
          "name": "stdout",
          "output_type": "stream",
          "text": [
            "CPU times: user 5.48 ms, sys: 1.15 ms, total: 6.62 ms\n",
            "Wall time: 6.07 ms\n"
          ]
        }
      ],
      "source": [
        "# @test {\"output\": \"ignore\"}\n",
        "\n",
        "%%time\n",
        "\n",
        "data_sequential = get_data_sequential(manager)"
      ]
    },
    {
      "cell_type": "code",
      "execution_count": null,
      "metadata": {
        "id": "PbZffGJADJib"
      },
      "outputs": [],
      "source": [
        "def get_data_parallel(\n",
        "    manager: PersistedIncrementalDataSliceManager,\n",
        ") -\u003e dict[str, kd.types.DataSlice]:\n",
        "  root = DataSliceManagerView(manager)\n",
        "  query = root.query[:]\n",
        "  doc = query.doc[:]\n",
        "\n",
        "  needed_views = {\n",
        "      'query_text': query.text,\n",
        "      'doc_title': doc.title,\n",
        "      'doc_id': doc.id,\n",
        "  }\n",
        "  needed_paths = {\n",
        "      name: view.get_path_from_root() for name, view in needed_views.items()\n",
        "  }\n",
        "  # Here is the crux of parallel loading: we ask the manager directly for a\n",
        "  # DataSlice that is populated with an arbitrary set of features. The manager\n",
        "  # will load the needed bags from disk in parallel.\n",
        "  ds = manager.get_data_slice(populate=needed_paths.values())\n",
        "  # We can use manager.get_data_slice(populate=needed_paths.values()) as a\n",
        "  # command to preload data in parallel, i.e. discard its return value and now\n",
        "  # do `return get_data_sequential(manager)`. But getting the data directly from\n",
        "  # the populated DataSlice is arguably more elegant:\n",
        "  return {name: path.evaluate(ds) for name, path in needed_paths.items()}"
      ]
    },
    {
      "cell_type": "markdown",
      "metadata": {
        "id": "ecyz0vn5YtBd"
      },
      "source": [
        "Because our data is so small, the results are very noisy, and the parallel loading isn't always faster. But on bigger examples the difference is much more pronounced."
      ]
    },
    {
      "cell_type": "code",
      "execution_count": null,
      "metadata": {
        "id": "w6WRLjmNED7s"
      },
      "outputs": [],
      "source": [
        "manager.clear_cache()"
      ]
    },
    {
      "cell_type": "code",
      "execution_count": null,
      "metadata": {
        "executionInfo": {
          "elapsed": 52,
          "status": "ok",
          "timestamp": 1758280937163,
          "user": {
            "displayName": "",
            "userId": ""
          },
          "user_tz": -120
        },
        "id": "eEGOiS8PDwRV",
        "outputId": "5a89c00d-f196-4214-e0c9-166568b200d4"
      },
      "outputs": [
        {
          "name": "stdout",
          "output_type": "stream",
          "text": [
            "CPU times: user 4.3 ms, sys: 2.63 ms, total: 6.93 ms\n",
            "Wall time: 5.48 ms\n"
          ]
        }
      ],
      "source": [
        "# @test {\"output\": \"ignore\"}\n",
        "\n",
        "%%time\n",
        "\n",
        "data_parallel = get_data_parallel(manager)"
      ]
    },
    {
      "cell_type": "code",
      "execution_count": null,
      "metadata": {
        "id": "COXXyuG6EZgG"
      },
      "outputs": [],
      "source": [
        "assert convert_to_pure_python(data_sequential) == convert_to_pure_python(\n",
        "    data_parallel\n",
        ")"
      ]
    },
    {
      "cell_type": "markdown",
      "metadata": {
        "id": "6qbWxzB68xhh"
      },
      "source": [
        "## Restrictions\n",
        "\n",
        "PersistedIncrementalDataSliceManager indexes the data by considering only its schema. Roughly speaking, it is a column-based storage abstraction.\n",
        "\n",
        "The use of kd.OBJECT schema is banned in incremental data, because the schema\n",
        "(kd.OBJECT) does not contain the information about the structure of the data that is needed for proper indexing.\n",
        "\n",
        "The next example shows how OBJECTs can hide information about their true character: based on the schema alone, it is not possible to infer that the update does not only add the attribute `root.naughty_obj`, but also `root.foo`. Updates that use kd.OBJECT somewhere are always rejected outright."
      ]
    },
    {
      "cell_type": "code",
      "execution_count": null,
      "metadata": {
        "executionInfo": {
          "elapsed": 301,
          "status": "ok",
          "timestamp": 1758281875045,
          "user": {
            "displayName": "",
            "userId": ""
          },
          "user_tz": -120
        },
        "id": "K2z73KJ2HQbj",
        "outputId": "c82cc5be-60d5-4a01-f240-6ddf838e5c71"
      },
      "outputs": [
        {
          "name": "stdout",
          "output_type": "stream",
          "text": [
            "OBJECT schemas are not supported. Please use a structured schema, or remove the data, or serialize it and attach it as BYTES data instead\n"
          ]
        }
      ],
      "source": [
        "try:\n",
        "  root.naughty_obj = (\n",
        "      kd.obj(root.get_data_slice().with_attrs(foo=123)),\n",
        "      'Trying to add an OBJECT',\n",
        "  )\n",
        "except ValueError as e:\n",
        "  print(e)"
      ]
    },
    {
      "cell_type": "markdown",
      "metadata": {
        "id": "mcm2r7Xqaja-"
      },
      "source": [
        "A somewhat unfortunate consequence of banning OBJECT is that Koda functors can only be stored in serialized form in incremental DataSlices."
      ]
    },
    {
      "cell_type": "markdown",
      "metadata": {
        "id": "urY0UPGPHKta"
      },
      "source": [
        "Additionally, the manager enforces a complete separation between data and schema. That is needed to make its reasoning about updates, which is based only on the schema of the data, consistent with the behavior of analogous updates in standard Koda DataSlices (i.e. non-incremental DataSlices).\n",
        "\n",
        "In particular, schemas cannot be stored inside data, i.e. kd.SCHEMA is banned. The next example shows why: not only does it add an attribute `root.my_naughty_schema` with schema `kd.SCHEMA`, but it also covertly adds an attribute `root.foo`:"
      ]
    },
    {
      "cell_type": "code",
      "execution_count": null,
      "metadata": {
        "executionInfo": {
          "elapsed": 5,
          "status": "ok",
          "timestamp": 1758281899123,
          "user": {
            "displayName": "",
            "userId": ""
          },
          "user_tz": -120
        },
        "id": "aA3hBpYIImDV",
        "outputId": "bf23bf1e-8860-4158-b956-a9ec79b5b989"
      },
      "outputs": [
        {
          "name": "stdout",
          "output_type": "stream",
          "text": [
            "SCHEMA schemas are not supported. Please remove it and try again. If you truly want to include data with schema SCHEMA, then consider serializing it and attaching the resulting BYTES data instead\n"
          ]
        }
      ],
      "source": [
        "try:\n",
        "  root.my_naughty_schema = root.get_schema().with_attr('foo', kd.INT32)\n",
        "except ValueError as e:\n",
        "  print(e)"
      ]
    },
    {
      "cell_type": "markdown",
      "metadata": {
        "id": "9wuge8v-Jxbn"
      },
      "source": [
        "The separation between data and schema is complete. Not only can data not include SCHEMAs, but SCHEMAs cannot include data.\n",
        "\n",
        "In particular, non-primitive data cannot be piggy-backed on schemas (schema metadata, to be precise). The next example shows why: not only does the update add an attribute `root.my_naughty_data`, but it also covertly adds an attribute `foo` to the first query."
      ]
    },
    {
      "cell_type": "code",
      "execution_count": null,
      "metadata": {
        "executionInfo": {
          "elapsed": 11,
          "status": "ok",
          "timestamp": 1758281938247,
          "user": {
            "displayName": "",
            "userId": ""
          },
          "user_tz": -120
        },
        "id": "NpRbMEpLJ6_G",
        "outputId": "6d75fe4e-3932-43e5-a803-316d324ff246"
      },
      "outputs": [
        {
          "name": "stdout",
          "output_type": "stream",
          "text": [
            "schema i_am_innocent(a=INT32, __schema_metadata__=Obj(covert_data=Entity(foo='bar'))) has metadata attributes that are not primitives\n"
          ]
        }
      ],
      "source": [
        "first_query = query.get_data_slice().S[0]\n",
        "\n",
        "innocent_looking_schema = kd.named_schema('i_am_innocent')\n",
        "innocent_looking_schema = kd.with_metadata(\n",
        "    innocent_looking_schema, covert_data=first_query.with_attrs(foo='bar')\n",
        ")\n",
        "\n",
        "try:\n",
        "  root.my_naughty_data = (\n",
        "      innocent_looking_schema.new(a=123),\n",
        "      'Covert data updates are banned',\n",
        "  )\n",
        "except ValueError as e:\n",
        "  print(e)"
      ]
    },
    {
      "cell_type": "markdown",
      "metadata": {
        "id": "ACCisiPK8fB7"
      },
      "source": [
        "## Aliases and graph data\n",
        "\n",
        "Although persisted incremental DataSlices are rooted, they do not have to be trees. Aliases and graph data are fully supported."
      ]
    },
    {
      "cell_type": "code",
      "execution_count": null,
      "metadata": {
        "id": "kRMqhvDqE4bu"
      },
      "outputs": [],
      "source": [
        "def aliasing_example():\n",
        "  e = kd.new(x=kd.new(z=1))\n",
        "\n",
        "  manager = PersistedIncrementalDataSliceManager(tempfile.mkdtemp())\n",
        "  root = DataSliceManagerView(manager)\n",
        "\n",
        "  root.e1 = e, 'Added data for e1'\n",
        "  root.e2 = e, 'Made e2 an alias for e1'\n",
        "  root.e3 = root.e2.get_data_slice(), 'Made e3 an alias for e2'\n",
        "  root.e4 = e.stub(), 'Yet another alias'\n",
        "\n",
        "  e1 = root.e1\n",
        "  e2 = root.e2\n",
        "  e3 = root.e3\n",
        "  e4 = root.e4\n",
        "\n",
        "  # Next, we add a new feature to e1. It is implicitly added to e2, e3 and e4 as\n",
        "  # well because of the aliasing.\n",
        "  e1.y = kd.item(2)\n",
        "\n",
        "  for view in [e1, e2, e3, e4]:\n",
        "    assert view.y.get_data_slice().to_py() == 2\n",
        "\n",
        "  # Starting from a state where nothing is loaded, the manager still knows\n",
        "  # that \"y\" is a descendant of e1, e2, e3, and e4.\n",
        "  manager.clear_cache()\n",
        "  for view in [e1, e2, e3, e4]:\n",
        "    assert view.y.get_data_slice().to_py() == 2\n",
        "\n",
        "  # The same is also true for completely new instances that read the state from\n",
        "  # the persistence directory.\n",
        "  new_manager = PersistedIncrementalDataSliceManager(\n",
        "      manager.get_persistence_directory()\n",
        "  )\n",
        "  new_root = DataSliceManagerView(new_manager)\n",
        "  assert new_root.e4.y.get_data_slice().to_py() == 2\n",
        "\n",
        "\n",
        "aliasing_example()"
      ]
    },
    {
      "cell_type": "code",
      "execution_count": null,
      "metadata": {
        "id": "lEFr4oUaPhl3"
      },
      "outputs": [],
      "source": [
        "def graph_data_example():\n",
        "  graph_node_schema = kd.named_schema(\n",
        "      'GraphNode',\n",
        "      label=kd.STRING,\n",
        "      outgoing_edges=kd.list_schema(kd.named_schema('GraphNode')),\n",
        "  )\n",
        "  node1 = graph_node_schema.new(label='node1')\n",
        "  node2 = graph_node_schema.new(label='node2', outgoing_edges=kd.list([node1]))\n",
        "  node1 = node1.updated(kd.attrs(node1, outgoing_edges=kd.list([node2])))\n",
        "\n",
        "  kd.testing.assert_deep_equivalent(\n",
        "      node1.outgoing_edges[:].outgoing_edges[:].flatten(),\n",
        "      kd.slice([node1]),\n",
        "  )\n",
        "\n",
        "  manager = PersistedIncrementalDataSliceManager(tempfile.mkdtemp())\n",
        "  root = DataSliceManagerView(manager)\n",
        "\n",
        "  root.graph_nodes = (\n",
        "      kd.list([node1, node2]),\n",
        "      'Populated graph_nodes with node1 and node2',\n",
        "  )\n",
        "  kd.testing.assert_deep_equivalent(\n",
        "      root.graph_nodes[:]\n",
        "      .outgoing_edges[:]\n",
        "      .outgoing_edges[:]\n",
        "      .label.get_data_slice()\n",
        "      .flatten(),\n",
        "      kd.slice(['node1', 'node2']),\n",
        "  )\n",
        "  kd.testing.assert_deep_equivalent(\n",
        "      root.graph_nodes[:].outgoing_edges[:].label.get_data_slice().flatten(),\n",
        "      kd.slice(['node2', 'node1']),\n",
        "  )\n",
        "\n",
        "  graph_nodes = root.graph_nodes[:]\n",
        "  outgoing_edges_lists = graph_nodes.outgoing_edges\n",
        "  graph_nodes.outgoing_edges = (\n",
        "      kd.reverse(outgoing_edges_lists.get_data_slice()),\n",
        "      'Changed both outgoing edges into self-edges by swapping the lists',\n",
        "  )\n",
        "  kd.testing.assert_deep_equivalent(\n",
        "      root.graph_nodes[:].outgoing_edges[:].label.get_data_slice().flatten(),\n",
        "      kd.slice(['node1', 'node2']),\n",
        "  )\n",
        "\n",
        "\n",
        "graph_data_example()"
      ]
    }
  ],
  "metadata": {
    "colab": {
      "provenance": []
    },
    "kernelspec": {
      "display_name": "Python 3",
      "name": "python3"
    },
    "language_info": {
      "name": "python"
    }
  },
  "nbformat": 4,
  "nbformat_minor": 0
}
